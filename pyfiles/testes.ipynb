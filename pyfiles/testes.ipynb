{
 "cells": [
  {
   "cell_type": "markdown",
   "metadata": {},
   "source": [
    "## OAuth"
   ]
  },
  {
   "cell_type": "code",
   "execution_count": 56,
   "metadata": {},
   "outputs": [
    {
     "data": {
      "text/plain": [
       "'https://www.strava.com/oauth/authorize?response_type=code&client_id=114849&redirect_uri=http%3A%2F%2Flocalhost%3A8080&scope=read_all&approval_prompt=auto'"
      ]
     },
     "execution_count": 56,
     "metadata": {},
     "output_type": "execute_result"
    }
   ],
   "source": [
    "import requests\n",
    "\n",
    "from oauthlib.oauth2 import WebApplicationClient\n",
    "from selenium import webdriver\n",
    "\n",
    "client_id = '114849'\n",
    "client = WebApplicationClient(client_id)\n",
    "authorization_url = 'https://www.strava.com/oauth/authorize'\n",
    "url = client.prepare_request_uri(\n",
    "  authorization_url,\n",
    "  redirect_uri = 'http://localhost:8080',\n",
    "  scope = ['read_all'],\n",
    "  approval_prompt = 'auto'\n",
    ")\n",
    "url\n"
   ]
  },
  {
   "cell_type": "code",
   "execution_count": 44,
   "metadata": {},
   "outputs": [
    {
     "data": {
      "text/plain": [
       "{'token_type': 'Bearer',\n",
       " 'expires_at': 1696827754,\n",
       " 'expires_in': 21386,\n",
       " 'refresh_token': '76331a6e978f916bdcc1eb0bb6afbf34e9c02753',\n",
       " 'access_token': '4abe65475b143c997ab0590e2d8714569d3ea524',\n",
       " 'athlete': {'id': 30297538,\n",
       "  'username': 'matheus_orsi',\n",
       "  'resource_state': 2,\n",
       "  'firstname': 'Matheus',\n",
       "  'lastname': 'Orsi',\n",
       "  'bio': '@matheus.orsi',\n",
       "  'city': 'Campinas',\n",
       "  'state': 'São Paulo',\n",
       "  'country': 'Brazil',\n",
       "  'sex': 'M',\n",
       "  'premium': False,\n",
       "  'summit': False,\n",
       "  'created_at': '2018-04-29T21:37:16Z',\n",
       "  'updated_at': '2023-10-07T02:59:11Z',\n",
       "  'badge_type_id': 0,\n",
       "  'weight': 76.0,\n",
       "  'profile_medium': 'https://graph.facebook.com/1682174085195768/picture?height=256&width=256',\n",
       "  'profile': 'https://graph.facebook.com/1682174085195768/picture?height=256&width=256',\n",
       "  'friend': None,\n",
       "  'follower': None}}"
      ]
     },
     "execution_count": 44,
     "metadata": {},
     "output_type": "execute_result"
    }
   ],
   "source": [
    "data = client.prepare_request_body(\n",
    "  code = '25417151e2ce2376b89933b3c99ed0b1d72575bb',\n",
    "  redirect_uri = 'http://localhost:8080',\n",
    "  client_id = '114849',\n",
    "  client_secret = 'e27bf5a173ce3bcd101be0b49de75143182147f9',\n",
    ")\n",
    "token_url = 'https://www.strava.com/api/v3/oauth/token'\n",
    "response = requests.post(token_url, data=data)\n",
    "response.json()"
   ]
  },
  {
   "cell_type": "code",
   "execution_count": 45,
   "metadata": {},
   "outputs": [
    {
     "data": {
      "text/plain": [
       "'4abe65475b143c997ab0590e2d8714569d3ea524'"
      ]
     },
     "execution_count": 45,
     "metadata": {},
     "output_type": "execute_result"
    }
   ],
   "source": [
    "response.json()['access_token']"
   ]
  },
  {
   "cell_type": "code",
   "execution_count": 46,
   "metadata": {},
   "outputs": [],
   "source": [
    "response.raise_for_status()"
   ]
  },
  {
   "cell_type": "code",
   "execution_count": 13,
   "metadata": {},
   "outputs": [
    {
     "data": {
      "text/plain": [
       "'{\"message\":\"Bad Request\",\"errors\":[{\"resource\":\"AuthorizationCode\",\"field\":\"code\",\"code\":\"invalid\"}]}'"
      ]
     },
     "execution_count": 13,
     "metadata": {},
     "output_type": "execute_result"
    }
   ],
   "source": [
    "# client.parse_request_body_response(response.text)\n"
   ]
  },
  {
   "cell_type": "markdown",
   "metadata": {},
   "source": [
    "## Tokens de acesso"
   ]
  },
  {
   "cell_type": "code",
   "execution_count": 15,
   "metadata": {},
   "outputs": [],
   "source": [
    "access_tokens = dict()\n",
    "scopes = {\n",
    "            'profile': 'profile:read_all',\n",
    "            'activity': 'activity:read_all'\n",
    "        }"
   ]
  },
  {
   "cell_type": "code",
   "execution_count": 18,
   "metadata": {},
   "outputs": [
    {
     "data": {
      "text/plain": [
       "{'activity': 'teste2', 'fda': 'teste2', 'ds': 'teste2'}"
      ]
     },
     "execution_count": 18,
     "metadata": {},
     "output_type": "execute_result"
    }
   ],
   "source": [
    "scope = 'ds'\n",
    "access_tokens[scope] = 'teste2'\n",
    "access_tokens"
   ]
  },
  {
   "cell_type": "markdown",
   "metadata": {},
   "source": [
    "## MySQL"
   ]
  },
  {
   "cell_type": "code",
   "execution_count": 1,
   "metadata": {},
   "outputs": [],
   "source": [
    "import mysql.connector"
   ]
  },
  {
   "cell_type": "code",
   "execution_count": 4,
   "metadata": {},
   "outputs": [],
   "source": [
    "mydb = mysql.connector.connect(\n",
    "  host=\"localhost\",\n",
    "  database = 'db_strava',\n",
    "  user=\"root\",\n",
    "  password=\"dD98293144!\"\n",
    ")"
   ]
  },
  {
   "cell_type": "code",
   "execution_count": 5,
   "metadata": {},
   "outputs": [
    {
     "data": {
      "text/plain": [
       "<mysql.connector.connection_cext.CMySQLConnection at 0x2ba10f38d00>"
      ]
     },
     "execution_count": 5,
     "metadata": {},
     "output_type": "execute_result"
    }
   ],
   "source": [
    "mydb"
   ]
  },
  {
   "cell_type": "code",
   "execution_count": 17,
   "metadata": {},
   "outputs": [
    {
     "data": {
      "text/plain": [
       "[None, None]"
      ]
     },
     "execution_count": 17,
     "metadata": {},
     "output_type": "execute_result"
    }
   ],
   "source": [
    "query = '''\n",
    "            select * from atletas where id = '30297538'\n",
    "        '''\n",
    "cursor = mydb.cursor()\n",
    "cursor.execute(query)\n",
    "data = cursor.fetchone()\n",
    "[data[19],data[20]]"
   ]
  }
 ],
 "metadata": {
  "kernelspec": {
   "display_name": "Python 3",
   "language": "python",
   "name": "python3"
  },
  "language_info": {
   "codemirror_mode": {
    "name": "ipython",
    "version": 3
   },
   "file_extension": ".py",
   "mimetype": "text/x-python",
   "name": "python",
   "nbconvert_exporter": "python",
   "pygments_lexer": "ipython3",
   "version": "3.10.9"
  }
 },
 "nbformat": 4,
 "nbformat_minor": 2
}
