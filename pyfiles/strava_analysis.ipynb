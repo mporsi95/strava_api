{
 "cells": [
  {
   "cell_type": "markdown",
   "metadata": {},
   "source": [
    "## Imports"
   ]
  },
  {
   "cell_type": "code",
   "execution_count": 1,
   "metadata": {},
   "outputs": [],
   "source": [
    "from strava_helper import StravaAPI"
   ]
  },
  {
   "cell_type": "markdown",
   "metadata": {},
   "source": [
    "## Code"
   ]
  },
  {
   "cell_type": "markdown",
   "metadata": {},
   "source": [
    "### Authorization"
   ]
  },
  {
   "cell_type": "code",
   "execution_count": 2,
   "metadata": {},
   "outputs": [
    {
     "name": "stdout",
     "output_type": "stream",
     "text": [
      "Connected successfully to db_strava\n",
      "Siga o link para autorizar e anote o código: \n",
      " https://www.strava.com/oauth/authorize?response_type=code&client_id=114849&redirect_uri=http%3A%2F%2Flocalhost%3A8080&scope=activity%3Aread_all&approval_prompt=auto\n"
     ]
    },
    {
     "name": "stdout",
     "output_type": "stream",
     "text": [
      "Siga o link para autorizar e anote o código: \n",
      " https://www.strava.com/oauth/authorize?response_type=code&client_id=114849&redirect_uri=http%3A%2F%2Flocalhost%3A8080&scope=profile%3Aread_all&approval_prompt=auto\n"
     ]
    },
    {
     "data": {
      "text/plain": [
       "<Response [200]>"
      ]
     },
     "execution_count": 2,
     "metadata": {},
     "output_type": "execute_result"
    }
   ],
   "source": [
    "# Create StravaAPI object\n",
    "st = StravaAPI(30297538)\n",
    "st.authorize('activity')\n",
    "st.authorize('profile')"
   ]
  },
  {
   "cell_type": "code",
   "execution_count": 3,
   "metadata": {},
   "outputs": [
    {
     "name": "stdout",
     "output_type": "stream",
     "text": [
      "token: 72d87e45574925e967c584f87691992a968a7853\n",
      "INSERT INTO atletas (id, username, estado_recurso, nome, biografia, cidade, estado, pais, sexo, peso, link_foto, nu_seguidores, nu_amigos, pref_data, pref_medidas, ftp, dh_criacao_perfil, dh_atualizacao_perfil, dh_ingestao) VALUES (%s, %s, %s, %s, %s, %s, %s, %s, %s, %s, %s, %s, %s, %s, %s, %s, %s, %s, %s)\n",
      "Insert concluded successfully!\n"
     ]
    }
   ],
   "source": [
    "st.create_athlete(30297538)"
   ]
  },
  {
   "cell_type": "markdown",
   "metadata": {},
   "source": [
    "### Get athlete data"
   ]
  },
  {
   "cell_type": "code",
   "execution_count": 4,
   "metadata": {},
   "outputs": [
    {
     "name": "stdout",
     "output_type": "stream",
     "text": [
      "token: 4a7fee0485346a06c6538d9e3a6bbb47af47b6c9\n"
     ]
    }
   ],
   "source": [
    "# GET request to Strava API\n",
    "url = 'https://www.strava.com/api/v3/athlete'\n",
    "url_type = 'profile'\n",
    "athlete = st.get_data(url, url_type)"
   ]
  },
  {
   "cell_type": "markdown",
   "metadata": {},
   "source": [
    "### Get Zones"
   ]
  },
  {
   "cell_type": "code",
   "execution_count": 7,
   "metadata": {},
   "outputs": [
    {
     "name": "stdout",
     "output_type": "stream",
     "text": [
      "token: 72d87e45574925e967c584f87691992a968a7853\n"
     ]
    },
    {
     "data": {
      "text/plain": [
       "{'heart_rate': {'custom_zones': False,\n",
       "  'zones': [{'min': 0, 'max': 112},\n",
       "   {'min': 112, 'max': 148},\n",
       "   {'min': 148, 'max': 166},\n",
       "   {'min': 166, 'max': 184},\n",
       "   {'min': 184, 'max': -1}]}}"
      ]
     },
     "execution_count": 7,
     "metadata": {},
     "output_type": "execute_result"
    }
   ],
   "source": [
    "url = 'https://www.strava.com/api/v3/athlete/zones'\n",
    "url_type = 'profile'\n",
    "zones = st.get_data(url, url_type)\n",
    "zones"
   ]
  },
  {
   "cell_type": "markdown",
   "metadata": {},
   "source": [
    "### Get Athlete Stats"
   ]
  },
  {
   "cell_type": "code",
   "execution_count": 10,
   "metadata": {},
   "outputs": [
    {
     "name": "stdout",
     "output_type": "stream",
     "text": [
      "token: 72d87e45574925e967c584f87691992a968a7853\n"
     ]
    },
    {
     "data": {
      "text/plain": [
       "{'biggest_ride_distance': 76708.5,\n",
       " 'biggest_climb_elevation_gain': 34.80000000000007,\n",
       " 'recent_ride_totals': {'count': 13,\n",
       "  'distance': 526362.68359375,\n",
       "  'moving_time': 85201,\n",
       "  'elapsed_time': 92279,\n",
       "  'elevation_gain': 6870.19482421875,\n",
       "  'achievement_count': 332},\n",
       " 'all_ride_totals': {'count': 221,\n",
       "  'distance': 4361361,\n",
       "  'moving_time': 728375,\n",
       "  'elapsed_time': 821299,\n",
       "  'elevation_gain': 61986},\n",
       " 'recent_run_totals': {'count': 0,\n",
       "  'distance': 0.0,\n",
       "  'moving_time': 0,\n",
       "  'elapsed_time': 0,\n",
       "  'elevation_gain': 0.0,\n",
       "  'achievement_count': 0},\n",
       " 'all_run_totals': {'count': 5,\n",
       "  'distance': 38993,\n",
       "  'moving_time': 16997,\n",
       "  'elapsed_time': 28539,\n",
       "  'elevation_gain': 324},\n",
       " 'recent_swim_totals': {'count': 0,\n",
       "  'distance': 0.0,\n",
       "  'moving_time': 0,\n",
       "  'elapsed_time': 0,\n",
       "  'elevation_gain': 0.0,\n",
       "  'achievement_count': 0},\n",
       " 'all_swim_totals': {'count': 0,\n",
       "  'distance': 0,\n",
       "  'moving_time': 0,\n",
       "  'elapsed_time': 0,\n",
       "  'elevation_gain': 0},\n",
       " 'ytd_ride_totals': {'count': 47,\n",
       "  'distance': 1536550,\n",
       "  'moving_time': 264998,\n",
       "  'elapsed_time': 279137,\n",
       "  'elevation_gain': 20561},\n",
       " 'ytd_run_totals': {'count': 1,\n",
       "  'distance': 7828,\n",
       "  'moving_time': 3267,\n",
       "  'elapsed_time': 4825,\n",
       "  'elevation_gain': 17},\n",
       " 'ytd_swim_totals': {'count': 0,\n",
       "  'distance': 0,\n",
       "  'moving_time': 0,\n",
       "  'elapsed_time': 0,\n",
       "  'elevation_gain': 0}}"
      ]
     },
     "execution_count": 10,
     "metadata": {},
     "output_type": "execute_result"
    }
   ],
   "source": [
    "# Get athlete id and pull stats\n",
    "athlete_id = athlete['id']\n",
    "url = f'https://www.strava.com/api/v3/athletes/{athlete_id}/stats'\n",
    "url_type = 'profile'\n",
    "stats = st.get_data(url, url_type)\n",
    "stats"
   ]
  },
  {
   "cell_type": "markdown",
   "metadata": {},
   "source": [
    "## RASCUNHO"
   ]
  },
  {
   "cell_type": "markdown",
   "metadata": {},
   "source": [
    "### Authentication"
   ]
  }
 ],
 "metadata": {
  "kernelspec": {
   "display_name": "Python 3",
   "language": "python",
   "name": "python3"
  },
  "language_info": {
   "codemirror_mode": {
    "name": "ipython",
    "version": 3
   },
   "file_extension": ".py",
   "mimetype": "text/x-python",
   "name": "python",
   "nbconvert_exporter": "python",
   "pygments_lexer": "ipython3",
   "version": "3.10.9"
  }
 },
 "nbformat": 4,
 "nbformat_minor": 2
}
