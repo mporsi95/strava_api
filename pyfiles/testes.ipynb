{
 "cells": [
  {
   "cell_type": "code",
   "execution_count": 23,
   "metadata": {},
   "outputs": [
    {
     "data": {
      "text/plain": [
       "'https://www.strava.com/oauth/authorize?response_type=code&client_id=114849&redirect_uri=http%3A%2F%2Flocalhost%3A8080&scope=activity%3Aread_all&approval_prompt=force'"
      ]
     },
     "execution_count": 23,
     "metadata": {},
     "output_type": "execute_result"
    }
   ],
   "source": [
    "from oauthlib.oauth2 import WebApplicationClient\n",
    "import requests\n",
    "\n",
    "client_id = '114849'\n",
    "client = WebApplicationClient(client_id)\n",
    "authorization_url = 'https://www.strava.com/oauth/authorize'\n",
    "url = client.prepare_request_uri(\n",
    "  authorization_url,\n",
    "  redirect_uri = 'http://localhost:8080',\n",
    "  scope = ['activity:read_all'],\n",
    "  approval_prompt = 'force'\n",
    ")\n",
    "url\n"
   ]
  },
  {
   "cell_type": "code",
   "execution_count": 24,
   "metadata": {},
   "outputs": [
    {
     "data": {
      "text/plain": [
       "'{\"token_type\":\"Bearer\",\"expires_at\":1696826177,\"expires_in\":21600,\"refresh_token\":\"f56fd37c0d97a02f1d730b729209b269c8c989c1\",\"access_token\":\"7c91747b177544134ed6bd36f63754e96b418367\",\"athlete\":{\"id\":30297538,\"username\":\"matheus_orsi\",\"resource_state\":2,\"firstname\":\"Matheus\",\"lastname\":\"Orsi\",\"bio\":\"@matheus.orsi\",\"city\":\"Campinas\",\"state\":\"São Paulo\",\"country\":\"Brazil\",\"sex\":\"M\",\"premium\":false,\"summit\":false,\"created_at\":\"2018-04-29T21:37:16Z\",\"updated_at\":\"2023-10-07T02:59:11Z\",\"badge_type_id\":0,\"weight\":76.0,\"profile_medium\":\"https://graph.facebook.com/1682174085195768/picture?height=256\\\\u0026width=256\",\"profile\":\"https://graph.facebook.com/1682174085195768/picture?height=256\\\\u0026width=256\",\"friend\":null,\"follower\":null}}'"
      ]
     },
     "execution_count": 24,
     "metadata": {},
     "output_type": "execute_result"
    }
   ],
   "source": [
    "data = client.prepare_request_body(\n",
    "  code = 'f4677da61df6e59c5f4dadd42c3861cd5711f746',\n",
    "  redirect_uri = 'http://localhost:8080',\n",
    "  client_id = '114849',\n",
    "  client_secret = 'e27bf5a173ce3bcd101be0b49de75143182147f9',\n",
    ")\n",
    "token_url = 'https://www.strava.com/api/v3/oauth/token'\n",
    "response = requests.post(token_url, data=data)\n",
    "response.text"
   ]
  },
  {
   "cell_type": "code",
   "execution_count": 13,
   "metadata": {},
   "outputs": [
    {
     "data": {
      "text/plain": [
       "'{\"message\":\"Bad Request\",\"errors\":[{\"resource\":\"AuthorizationCode\",\"field\":\"code\",\"code\":\"invalid\"}]}'"
      ]
     },
     "execution_count": 13,
     "metadata": {},
     "output_type": "execute_result"
    }
   ],
   "source": [
    "# client.parse_request_body_response(response.text)\n"
   ]
  }
 ],
 "metadata": {
  "kernelspec": {
   "display_name": "Python 3",
   "language": "python",
   "name": "python3"
  },
  "language_info": {
   "codemirror_mode": {
    "name": "ipython",
    "version": 3
   },
   "file_extension": ".py",
   "mimetype": "text/x-python",
   "name": "python",
   "nbconvert_exporter": "python",
   "pygments_lexer": "ipython3",
   "version": "3.10.9"
  }
 },
 "nbformat": 4,
 "nbformat_minor": 2
}
