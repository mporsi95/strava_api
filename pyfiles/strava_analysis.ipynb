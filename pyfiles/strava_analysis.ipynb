{
 "cells": [
  {
   "cell_type": "markdown",
   "metadata": {},
   "source": [
    "## Imports"
   ]
  },
  {
   "cell_type": "code",
   "execution_count": 7,
   "metadata": {},
   "outputs": [],
   "source": [
    "import polars as pl\n",
    "\n",
    "from strava_helper import StravaAPI"
   ]
  },
  {
   "cell_type": "markdown",
   "metadata": {},
   "source": [
    "## Code"
   ]
  },
  {
   "cell_type": "markdown",
   "metadata": {},
   "source": [
    "### Authorization"
   ]
  },
  {
   "cell_type": "code",
   "execution_count": 9,
   "metadata": {},
   "outputs": [
    {
     "name": "stdout",
     "output_type": "stream",
     "text": [
      "Siga o link para autorizar e anote o código: \n",
      " https://www.strava.com/oauth/authorize?response_type=code&client_id=114849&redirect_uri=http%3A%2F%2Flocalhost%3A8080&scope=profile%3Aread_all&approval_prompt=auto\n",
      "Siga o link para autorizar e anote o código: \n",
      " https://www.strava.com/oauth/authorize?response_type=code&client_id=114849&redirect_uri=http%3A%2F%2Flocalhost%3A8080&scope=activity%3Aread_all&approval_prompt=auto\n"
     ]
    }
   ],
   "source": [
    "# Create StravaAPI object\n",
    "st = StravaAPI()\n",
    "\n",
    "# Authorize StravaAPI access\n",
    "st.authorize('profile')\n",
    "st.authorize('activity')\n",
    "\n",
    "# Get DB connection\n",
    "conn = st.mysql_connection"
   ]
  },
  {
   "cell_type": "markdown",
   "metadata": {},
   "source": [
    "### Get athlete data"
   ]
  },
  {
   "cell_type": "code",
   "execution_count": 15,
   "metadata": {},
   "outputs": [],
   "source": [
    "cursor = conn.cursor()\n",
    "cursor.execute('use db_strava')\n",
    "cursor.execute('show tables')"
   ]
  },
  {
   "cell_type": "code",
   "execution_count": 16,
   "metadata": {},
   "outputs": [
    {
     "data": {
      "text/plain": [
       "[('teste',)]"
      ]
     },
     "execution_count": 16,
     "metadata": {},
     "output_type": "execute_result"
    }
   ],
   "source": [
    "cursor.fetchall()"
   ]
  },
  {
   "cell_type": "code",
   "execution_count": 3,
   "metadata": {},
   "outputs": [
    {
     "data": {
      "text/plain": [
       "{'id': 30297538,\n",
       " 'username': 'matheus_orsi',\n",
       " 'resource_state': 3,\n",
       " 'firstname': 'Matheus',\n",
       " 'lastname': 'Orsi',\n",
       " 'bio': '@matheus.orsi',\n",
       " 'city': 'Campinas',\n",
       " 'state': 'São Paulo',\n",
       " 'country': 'Brazil',\n",
       " 'sex': 'M',\n",
       " 'premium': False,\n",
       " 'summit': False,\n",
       " 'created_at': '2018-04-29T21:37:16Z',\n",
       " 'updated_at': '2023-10-07T02:59:11Z',\n",
       " 'badge_type_id': 0,\n",
       " 'weight': 76.0,\n",
       " 'profile_medium': 'https://graph.facebook.com/1682174085195768/picture?height=256&width=256',\n",
       " 'profile': 'https://graph.facebook.com/1682174085195768/picture?height=256&width=256',\n",
       " 'friend': None,\n",
       " 'follower': None,\n",
       " 'blocked': False,\n",
       " 'can_follow': True,\n",
       " 'follower_count': 21,\n",
       " 'friend_count': 19,\n",
       " 'mutual_friend_count': 0,\n",
       " 'athlete_type': 0,\n",
       " 'date_preference': '%m/%d/%Y',\n",
       " 'measurement_preference': 'meters',\n",
       " 'clubs': [],\n",
       " 'postable_clubs_count': 0,\n",
       " 'ftp': None,\n",
       " 'bikes': [{'id': 'b13358327',\n",
       "   'primary': False,\n",
       "   'name': 'Mad max',\n",
       "   'nickname': 'Mad max',\n",
       "   'resource_state': 2,\n",
       "   'retired': False,\n",
       "   'distance': 23947,\n",
       "   'converted_distance': 23.9}],\n",
       " 'shoes': [],\n",
       " 'is_winback_via_upload': False,\n",
       " 'is_winback_via_view': False}"
      ]
     },
     "execution_count": 3,
     "metadata": {},
     "output_type": "execute_result"
    }
   ],
   "source": [
    "# GET request to Strava API\n",
    "url = 'https://www.strava.com/api/v3/athlete'\n",
    "url_type = 'profile'\n",
    "athlete = st.get_data(url, 'profile')\n",
    "athlete"
   ]
  },
  {
   "cell_type": "code",
   "execution_count": null,
   "metadata": {},
   "outputs": [],
   "source": [
    "data = [\n",
    "athlete.get('id'), athlete.get('username'), athlete.get('firstname') + ' ' + athlete.get('lastname'),\n",
    "athlete.get('bio'), athlete.get('city'), athlete.get('state'), athlete.get('country'),\n",
    "athlete.get('sex'), athlete.get('weight'), athlete.get('profile'), athlete.get('measurement_preference'),\n",
    "athlete.get('date_preference'),\n",
    "]"
   ]
  },
  {
   "cell_type": "code",
   "execution_count": 22,
   "metadata": {},
   "outputs": [
    {
     "ename": "AttributeError",
     "evalue": "'CMySQLCursor' object has no attribute 'split'",
     "output_type": "error",
     "traceback": [
      "\u001b[1;31m---------------------------------------------------------------------------\u001b[0m",
      "\u001b[1;31mAttributeError\u001b[0m                            Traceback (most recent call last)",
      "\u001b[1;32mc:\\Git\\strava_api\\pyfiles\\strava_analysis.ipynb Cell 11\u001b[0m line \u001b[0;36m2\n\u001b[0;32m      <a href='vscode-notebook-cell:/c%3A/Git/strava_api/pyfiles/strava_analysis.ipynb#X11sZmlsZQ%3D%3D?line=0'>1</a>\u001b[0m query \u001b[39m=\u001b[39m \u001b[39m'\u001b[39m\u001b[39mselect * from teste\u001b[39m\u001b[39m'\u001b[39m\n\u001b[1;32m----> <a href='vscode-notebook-cell:/c%3A/Git/strava_api/pyfiles/strava_analysis.ipynb#X11sZmlsZQ%3D%3D?line=1'>2</a>\u001b[0m pl\u001b[39m.\u001b[39;49mread_database(query \u001b[39m=\u001b[39;49m query, connection_uri \u001b[39m=\u001b[39;49m cursor)\n",
      "File \u001b[1;32mc:\\Users\\MatheusOrsi\\AppData\\Local\\Programs\\Python\\Python310\\lib\\site-packages\\polars\\io\\database.py:95\u001b[0m, in \u001b[0;36mread_database\u001b[1;34m(query, connection_uri, partition_on, partition_range, partition_num, protocol, engine)\u001b[0m\n\u001b[0;32m     24\u001b[0m \u001b[39m\u001b[39m\u001b[39m\"\"\"\u001b[39;00m\n\u001b[0;32m     25\u001b[0m \u001b[39mRead a SQL query into a DataFrame.\u001b[39;00m\n\u001b[0;32m     26\u001b[0m \n\u001b[1;32m   (...)\u001b[0m\n\u001b[0;32m     92\u001b[0m \n\u001b[0;32m     93\u001b[0m \u001b[39m\"\"\"\u001b[39;00m\n\u001b[0;32m     94\u001b[0m \u001b[39mif\u001b[39;00m engine \u001b[39m==\u001b[39m \u001b[39m\"\u001b[39m\u001b[39mconnectorx\u001b[39m\u001b[39m\"\u001b[39m:\n\u001b[1;32m---> 95\u001b[0m     \u001b[39mreturn\u001b[39;00m _read_sql_connectorx(\n\u001b[0;32m     96\u001b[0m         query,\n\u001b[0;32m     97\u001b[0m         connection_uri,\n\u001b[0;32m     98\u001b[0m         partition_on\u001b[39m=\u001b[39;49mpartition_on,\n\u001b[0;32m     99\u001b[0m         partition_range\u001b[39m=\u001b[39;49mpartition_range,\n\u001b[0;32m    100\u001b[0m         partition_num\u001b[39m=\u001b[39;49mpartition_num,\n\u001b[0;32m    101\u001b[0m         protocol\u001b[39m=\u001b[39;49mprotocol,\n\u001b[0;32m    102\u001b[0m     )\n\u001b[0;32m    103\u001b[0m \u001b[39melif\u001b[39;00m engine \u001b[39m==\u001b[39m \u001b[39m\"\u001b[39m\u001b[39madbc\u001b[39m\u001b[39m\"\u001b[39m:\n\u001b[0;32m    104\u001b[0m     \u001b[39mif\u001b[39;00m \u001b[39mnot\u001b[39;00m \u001b[39misinstance\u001b[39m(query, \u001b[39mstr\u001b[39m):\n",
      "File \u001b[1;32mc:\\Users\\MatheusOrsi\\AppData\\Local\\Programs\\Python\\Python310\\lib\\site-packages\\polars\\io\\database.py:224\u001b[0m, in \u001b[0;36m_read_sql_connectorx\u001b[1;34m(query, connection_uri, partition_on, partition_range, partition_num, protocol)\u001b[0m\n\u001b[0;32m    219\u001b[0m \u001b[39mexcept\u001b[39;00m \u001b[39mImportError\u001b[39;00m:\n\u001b[0;32m    220\u001b[0m     \u001b[39mraise\u001b[39;00m \u001b[39mImportError\u001b[39;00m(\n\u001b[0;32m    221\u001b[0m         \u001b[39m\"\u001b[39m\u001b[39mconnectorx is not installed. Please run `pip install connectorx>=0.3.1`.\u001b[39m\u001b[39m\"\u001b[39m\n\u001b[0;32m    222\u001b[0m     ) \u001b[39mfrom\u001b[39;00m \u001b[39mNone\u001b[39m\n\u001b[1;32m--> 224\u001b[0m tbl \u001b[39m=\u001b[39m cx\u001b[39m.\u001b[39;49mread_sql(\n\u001b[0;32m    225\u001b[0m     conn\u001b[39m=\u001b[39;49mconnection_uri,\n\u001b[0;32m    226\u001b[0m     query\u001b[39m=\u001b[39;49mquery,\n\u001b[0;32m    227\u001b[0m     return_type\u001b[39m=\u001b[39;49m\u001b[39m\"\u001b[39;49m\u001b[39marrow2\u001b[39;49m\u001b[39m\"\u001b[39;49m,\n\u001b[0;32m    228\u001b[0m     partition_on\u001b[39m=\u001b[39;49mpartition_on,\n\u001b[0;32m    229\u001b[0m     partition_range\u001b[39m=\u001b[39;49mpartition_range,\n\u001b[0;32m    230\u001b[0m     partition_num\u001b[39m=\u001b[39;49mpartition_num,\n\u001b[0;32m    231\u001b[0m     protocol\u001b[39m=\u001b[39;49mprotocol,\n\u001b[0;32m    232\u001b[0m )\n\u001b[0;32m    234\u001b[0m \u001b[39mreturn\u001b[39;00m from_arrow(tbl)\n",
      "File \u001b[1;32mc:\\Users\\MatheusOrsi\\AppData\\Local\\Programs\\Python\\Python310\\lib\\site-packages\\connectorx\\__init__.py:256\u001b[0m, in \u001b[0;36mread_sql\u001b[1;34m(conn, query, return_type, protocol, partition_on, partition_range, partition_num, index_col)\u001b[0m\n\u001b[0;32m    253\u001b[0m \u001b[39melse\u001b[39;00m:\n\u001b[0;32m    254\u001b[0m     \u001b[39mraise\u001b[39;00m \u001b[39mValueError\u001b[39;00m(\u001b[39m\"\u001b[39m\u001b[39mquery must be either str or a list of str\u001b[39m\u001b[39m\"\u001b[39m)\n\u001b[1;32m--> 256\u001b[0m conn, protocol \u001b[39m=\u001b[39m rewrite_conn(conn, protocol)\n\u001b[0;32m    258\u001b[0m \u001b[39mif\u001b[39;00m return_type \u001b[39min\u001b[39;00m {\u001b[39m\"\u001b[39m\u001b[39mmodin\u001b[39m\u001b[39m\"\u001b[39m, \u001b[39m\"\u001b[39m\u001b[39mdask\u001b[39m\u001b[39m\"\u001b[39m, \u001b[39m\"\u001b[39m\u001b[39mpandas\u001b[39m\u001b[39m\"\u001b[39m}:\n\u001b[0;32m    259\u001b[0m     \u001b[39mtry\u001b[39;00m:\n",
      "File \u001b[1;32mc:\\Users\\MatheusOrsi\\AppData\\Local\\Programs\\Python\\Python310\\lib\\site-packages\\connectorx\\__init__.py:42\u001b[0m, in \u001b[0;36mrewrite_conn\u001b[1;34m(conn, protocol)\u001b[0m\n\u001b[0;32m     38\u001b[0m \u001b[39mdef\u001b[39;00m \u001b[39mrewrite_conn\u001b[39m(conn: \u001b[39mstr\u001b[39m, protocol: Optional[\u001b[39mstr\u001b[39m] \u001b[39m=\u001b[39m \u001b[39mNone\u001b[39;00m):\n\u001b[0;32m     39\u001b[0m     \u001b[39mif\u001b[39;00m \u001b[39mnot\u001b[39;00m protocol:\n\u001b[0;32m     40\u001b[0m         \u001b[39m# note: redshift/clickhouse are not compatible with the 'binary' protocol, and use other database\u001b[39;00m\n\u001b[0;32m     41\u001b[0m         \u001b[39m# drivers to connect. set a compatible protocol and masquerade as the appropriate backend.\u001b[39;00m\n\u001b[1;32m---> 42\u001b[0m         backend, connection_details \u001b[39m=\u001b[39m conn\u001b[39m.\u001b[39;49msplit(\u001b[39m\"\u001b[39m\u001b[39m:\u001b[39m\u001b[39m\"\u001b[39m, \u001b[39m1\u001b[39m) \u001b[39mif\u001b[39;00m conn \u001b[39melse\u001b[39;00m (\u001b[39m\"\u001b[39m\u001b[39m\"\u001b[39m, \u001b[39m\"\u001b[39m\u001b[39m\"\u001b[39m)\n\u001b[0;32m     43\u001b[0m         \u001b[39mif\u001b[39;00m \u001b[39m\"\u001b[39m\u001b[39mredshift\u001b[39m\u001b[39m\"\u001b[39m \u001b[39min\u001b[39;00m backend:\n\u001b[0;32m     44\u001b[0m             conn \u001b[39m=\u001b[39m \u001b[39mf\u001b[39m\u001b[39m\"\u001b[39m\u001b[39mpostgresql:\u001b[39m\u001b[39m{\u001b[39;00mconnection_details\u001b[39m}\u001b[39;00m\u001b[39m\"\u001b[39m\n",
      "\u001b[1;31mAttributeError\u001b[0m: 'CMySQLCursor' object has no attribute 'split'"
     ]
    }
   ],
   "source": [
    "query = 'select * from teste'\n",
    "pl.read_database(query = query, connection_uri = cursor)"
   ]
  },
  {
   "cell_type": "code",
   "execution_count": null,
   "metadata": {},
   "outputs": [],
   "source": [
    "df_profiles = pl.DataFrame(schema=[\n",
    "        ('id', pl.Int64), ('username', pl.Utf8), ('nome', pl.Utf8),\n",
    "        ('bio', pl.Utf8), ('cidade', pl.Utf8), ('estado', pl.Utf8),\n",
    "        ('pais', pl.Utf8), ('genero', pl.Utf8), ('summit', pl.Boolean),\n",
    "        ('criado_em', pl.Utf8), ('atualizado_em', pl.Utf8), ('tipo_badge', pl.Utf8),\n",
    "        ('peso', pl.Float64), ('foto', pl.Utf8), ('amigo', pl.Boolean),\n",
    "        # ('seguidor', pl.Boolean), ('bloqueado', pl.Boolean), ('pode_seguir', pl.Boolean),\n",
    "        ('seguidores', pl.Int64), ('amigos', pl.Int64), ('amigos_mutuos', pl.Int64),\n",
    "        ('tipo_atleta', pl.Utf8), ('preferencia_data', pl.Utf8), ('preferencia_medida', pl.Utf8),\n",
    "        ('clubes_postaveis', pl.Int16), ('ftp', pl.Int64),\n",
    "        ('bicicletas', pl.Struct(\n",
    "            [pl.Field('id', pl.Utf8), pl.Field('primaria', pl.Boolean),\n",
    "             pl.Field('nome', pl.Utf8), pl.Field('apelido', pl.Utf8),\n",
    "             pl.Field('aposentada', pl.Boolean), pl.Field('distancia', pl.Int64),\n",
    "             pl.Field('distancia_convertida', pl.Float64)])),                         \n",
    "        ('winback_upload', pl.Boolean), ('winback_view', pl.Boolean)\n",
    "])"
   ]
  },
  {
   "cell_type": "code",
   "execution_count": null,
   "metadata": {},
   "outputs": [],
   "source": []
  },
  {
   "cell_type": "code",
   "execution_count": null,
   "metadata": {},
   "outputs": [],
   "source": [
    "# Get athlete id and pull stats\n",
    "athlete_id = athlete['id']\n",
    "url = f'https://www.strava.com/api/v3/athletes/{athlete_id}/stats'\n",
    "stats = get_data_strava(url)"
   ]
  },
  {
   "cell_type": "markdown",
   "metadata": {},
   "source": [
    "## RASCUNHO"
   ]
  },
  {
   "cell_type": "markdown",
   "metadata": {},
   "source": [
    "### Authentication"
   ]
  },
  {
   "cell_type": "code",
   "execution_count": null,
   "metadata": {},
   "outputs": [],
   "source": [
    "access_token = request_token()\n",
    "access_token"
   ]
  }
 ],
 "metadata": {
  "kernelspec": {
   "display_name": "Python 3",
   "language": "python",
   "name": "python3"
  },
  "language_info": {
   "codemirror_mode": {
    "name": "ipython",
    "version": 3
   },
   "file_extension": ".py",
   "mimetype": "text/x-python",
   "name": "python",
   "nbconvert_exporter": "python",
   "pygments_lexer": "ipython3",
   "version": "3.10.9"
  }
 },
 "nbformat": 4,
 "nbformat_minor": 2
}
