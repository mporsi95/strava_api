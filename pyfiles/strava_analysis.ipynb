{
 "cells": [
  {
   "cell_type": "markdown",
   "metadata": {},
   "source": [
    "## Imports"
   ]
  },
  {
   "cell_type": "code",
   "execution_count": 2,
   "metadata": {},
   "outputs": [],
   "source": [
    "import pandas as pd\n",
    "\n",
    "from oauthlib.oauth2 import WebApplicationClient\n",
    "from defs import get_data_strava, request_token"
   ]
  },
  {
   "cell_type": "markdown",
   "metadata": {},
   "source": [
    "## Code"
   ]
  },
  {
   "cell_type": "markdown",
   "metadata": {},
   "source": [
    "### Authentication"
   ]
  },
  {
   "cell_type": "code",
   "execution_count": 3,
   "metadata": {},
   "outputs": [
    {
     "name": "stdout",
     "output_type": "stream",
     "text": [
      "Requesting Token...\n",
      "\n"
     ]
    }
   ],
   "source": [
    "access_token = request_token()"
   ]
  },
  {
   "cell_type": "code",
   "execution_count": 4,
   "metadata": {},
   "outputs": [
    {
     "data": {
      "text/plain": [
       "'595b13cadcdced379b4dabb36de42f5ecf5f8e3c'"
      ]
     },
     "execution_count": 4,
     "metadata": {},
     "output_type": "execute_result"
    }
   ],
   "source": [
    "access_token"
   ]
  },
  {
   "cell_type": "markdown",
   "metadata": {},
   "source": [
    "### Get athlete data"
   ]
  },
  {
   "cell_type": "code",
   "execution_count": 16,
   "metadata": {},
   "outputs": [],
   "source": [
    "# GET request to Strava API\n",
    "url = 'https://www.strava.com/api/v3/athlete'\n",
    "athlete = get_data_strava(url)"
   ]
  },
  {
   "cell_type": "code",
   "execution_count": 17,
   "metadata": {},
   "outputs": [
    {
     "data": {
      "text/plain": [
       "{'id': 30297538,\n",
       " 'username': 'matheus_orsi',\n",
       " 'resource_state': 2,\n",
       " 'firstname': 'Matheus',\n",
       " 'lastname': 'Orsi',\n",
       " 'bio': '@matheus.orsi',\n",
       " 'city': 'Campinas',\n",
       " 'state': 'São Paulo',\n",
       " 'country': 'Brazil',\n",
       " 'sex': 'M',\n",
       " 'premium': False,\n",
       " 'summit': False,\n",
       " 'created_at': '2018-04-29T21:37:16Z',\n",
       " 'updated_at': '2023-10-07T02:59:11Z',\n",
       " 'badge_type_id': 0,\n",
       " 'weight': 76.0,\n",
       " 'profile_medium': 'https://graph.facebook.com/1682174085195768/picture?height=256&width=256',\n",
       " 'profile': 'https://graph.facebook.com/1682174085195768/picture?height=256&width=256',\n",
       " 'friend': None,\n",
       " 'follower': None}"
      ]
     },
     "execution_count": 17,
     "metadata": {},
     "output_type": "execute_result"
    }
   ],
   "source": [
    "athlete"
   ]
  },
  {
   "cell_type": "code",
   "execution_count": 12,
   "metadata": {},
   "outputs": [
    {
     "data": {
      "text/plain": [
       "{'id': 30297538,\n",
       " 'username': 'matheus_orsi',\n",
       " 'resource_state': 2,\n",
       " 'firstname': 'Matheus',\n",
       " 'lastname': 'Orsi',\n",
       " 'bio': '@matheus.orsi',\n",
       " 'city': 'Campinas',\n",
       " 'state': 'São Paulo',\n",
       " 'country': 'Brazil',\n",
       " 'sex': 'M',\n",
       " 'premium': False,\n",
       " 'summit': False,\n",
       " 'created_at': '2018-04-29T21:37:16Z',\n",
       " 'updated_at': '2023-10-07T02:59:11Z',\n",
       " 'badge_type_id': 0,\n",
       " 'weight': 76.0,\n",
       " 'profile_medium': 'https://graph.facebook.com/1682174085195768/picture?height=256&width=256',\n",
       " 'profile': 'https://graph.facebook.com/1682174085195768/picture?height=256&width=256',\n",
       " 'friend': None,\n",
       " 'follower': None}"
      ]
     },
     "execution_count": 12,
     "metadata": {},
     "output_type": "execute_result"
    }
   ],
   "source": [
    "athlete\n"
   ]
  },
  {
   "cell_type": "code",
   "execution_count": null,
   "metadata": {},
   "outputs": [],
   "source": [
    "df_ids = pd.DataFrame(columns=['id','username',])"
   ]
  },
  {
   "cell_type": "code",
   "execution_count": 8,
   "metadata": {},
   "outputs": [
    {
     "name": "stdout",
     "output_type": "stream",
     "text": [
      "404 Client Error: Not Found for url: https://www.strava.com/api/v3/athletes/9978483361/stats\n"
     ]
    }
   ],
   "source": [
    "# Get athlete id and pull stats\n",
    "athlete_id = athlete['id']\n",
    "url = f'https://www.strava.com/api/v3/athletes/{athlete_id}/stats'\n",
    "stats = get_data_strava(url)"
   ]
  },
  {
   "cell_type": "code",
   "execution_count": 6,
   "metadata": {},
   "outputs": [
    {
     "data": {
      "text/plain": [
       "{'biggest_ride_distance': 67314.6,\n",
       " 'biggest_climb_elevation_gain': 34.80000000000007,\n",
       " 'recent_ride_totals': {'count': 10,\n",
       "  'distance': 187045.94140625,\n",
       "  'moving_time': 39930,\n",
       "  'elapsed_time': 41158,\n",
       "  'elevation_gain': 2269.0770721435547,\n",
       "  'achievement_count': 198},\n",
       " 'all_ride_totals': {'count': 199,\n",
       "  'distance': 3546913,\n",
       "  'moving_time': 586827,\n",
       "  'elapsed_time': 670227,\n",
       "  'elevation_gain': 50747},\n",
       " 'recent_run_totals': {'count': 0,\n",
       "  'distance': 0.0,\n",
       "  'moving_time': 0,\n",
       "  'elapsed_time': 0,\n",
       "  'elevation_gain': 0.0,\n",
       "  'achievement_count': 0},\n",
       " 'all_run_totals': {'count': 5,\n",
       "  'distance': 38993,\n",
       "  'moving_time': 16997,\n",
       "  'elapsed_time': 28539,\n",
       "  'elevation_gain': 324},\n",
       " 'recent_swim_totals': {'count': 0,\n",
       "  'distance': 0.0,\n",
       "  'moving_time': 0,\n",
       "  'elapsed_time': 0,\n",
       "  'elevation_gain': 0.0,\n",
       "  'achievement_count': 0},\n",
       " 'all_swim_totals': {'count': 0,\n",
       "  'distance': 0,\n",
       "  'moving_time': 0,\n",
       "  'elapsed_time': 0,\n",
       "  'elevation_gain': 0},\n",
       " 'ytd_ride_totals': {'count': 25,\n",
       "  'distance': 722102,\n",
       "  'moving_time': 123450,\n",
       "  'elapsed_time': 128065,\n",
       "  'elevation_gain': 9322},\n",
       " 'ytd_run_totals': {'count': 1,\n",
       "  'distance': 7828,\n",
       "  'moving_time': 3267,\n",
       "  'elapsed_time': 4825,\n",
       "  'elevation_gain': 17},\n",
       " 'ytd_swim_totals': {'count': 0,\n",
       "  'distance': 0,\n",
       "  'moving_time': 0,\n",
       "  'elapsed_time': 0,\n",
       "  'elevation_gain': 0}}"
      ]
     },
     "execution_count": 6,
     "metadata": {},
     "output_type": "execute_result"
    }
   ],
   "source": [
    "\n",
    "\n",
    "\n",
    "\n",
    "\n",
    "stats"
   ]
  }
 ],
 "metadata": {
  "kernelspec": {
   "display_name": "Python 3",
   "language": "python",
   "name": "python3"
  },
  "language_info": {
   "codemirror_mode": {
    "name": "ipython",
    "version": 3
   },
   "file_extension": ".py",
   "mimetype": "text/x-python",
   "name": "python",
   "nbconvert_exporter": "python",
   "pygments_lexer": "ipython3",
   "version": "3.10.9"
  }
 },
 "nbformat": 4,
 "nbformat_minor": 2
}
