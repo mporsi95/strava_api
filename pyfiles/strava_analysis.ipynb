{
 "cells": [
  {
   "cell_type": "markdown",
   "metadata": {},
   "source": [
    "## Imports"
   ]
  },
  {
   "cell_type": "code",
   "execution_count": 3,
   "metadata": {},
   "outputs": [],
   "source": [
    "import pandas as pd\n",
    "\n",
    "from oauthlib.oauth2 import WebApplicationClient\n",
    "from defs import get_data_strava, request_token"
   ]
  },
  {
   "cell_type": "markdown",
   "metadata": {},
   "source": [
    "## Code"
   ]
  },
  {
   "cell_type": "markdown",
   "metadata": {},
   "source": [
    "### Authorization"
   ]
  },
  {
   "cell_type": "code",
   "execution_count": null,
   "metadata": {},
   "outputs": [],
   "source": []
  },
  {
   "cell_type": "markdown",
   "metadata": {},
   "source": [
    "### Authentication"
   ]
  },
  {
   "cell_type": "code",
   "execution_count": 2,
   "metadata": {},
   "outputs": [
    {
     "name": "stdout",
     "output_type": "stream",
     "text": [
      "Requesting Token...\n",
      "\n",
      "403 Client Error: Forbidden for url: https://www.strava.com/oauth/authorize\n"
     ]
    }
   ],
   "source": [
    "access_token = request_token()\n",
    "access_token"
   ]
  },
  {
   "cell_type": "code",
   "execution_count": 5,
   "metadata": {},
   "outputs": [
    {
     "data": {
      "text/plain": [
       "'a2d5f694ebedc78f038ddd84cbe54c0573b82667'"
      ]
     },
     "execution_count": 5,
     "metadata": {},
     "output_type": "execute_result"
    }
   ],
   "source": [
    "# 3cf88bcc9179f69ebd5b98c9b95cd51dad99da4a\n"
   ]
  },
  {
   "cell_type": "markdown",
   "metadata": {},
   "source": [
    "### Get athlete data"
   ]
  },
  {
   "cell_type": "code",
   "execution_count": 4,
   "metadata": {},
   "outputs": [
    {
     "name": "stdout",
     "output_type": "stream",
     "text": [
      "401 Client Error: Unauthorized for url: https://www.strava.com/api/v3/athlete\n"
     ]
    }
   ],
   "source": [
    "# GET request to Strava API\n",
    "url = 'https://www.strava.com/api/v3/athlete'\n",
    "athlete = get_data_strava(url, access_token)"
   ]
  },
  {
   "cell_type": "code",
   "execution_count": 4,
   "metadata": {},
   "outputs": [
    {
     "data": {
      "text/plain": [
       "{'id': 30297538,\n",
       " 'username': 'matheus_orsi',\n",
       " 'resource_state': 2,\n",
       " 'firstname': 'Matheus',\n",
       " 'lastname': 'Orsi',\n",
       " 'bio': '@matheus.orsi',\n",
       " 'city': 'Campinas',\n",
       " 'state': 'São Paulo',\n",
       " 'country': 'Brazil',\n",
       " 'sex': 'M',\n",
       " 'premium': False,\n",
       " 'summit': False,\n",
       " 'created_at': '2018-04-29T21:37:16Z',\n",
       " 'updated_at': '2023-10-07T02:59:11Z',\n",
       " 'badge_type_id': 0,\n",
       " 'weight': 76.0,\n",
       " 'profile_medium': 'https://graph.facebook.com/1682174085195768/picture?height=256&width=256',\n",
       " 'profile': 'https://graph.facebook.com/1682174085195768/picture?height=256&width=256',\n",
       " 'friend': None,\n",
       " 'follower': None}"
      ]
     },
     "execution_count": 4,
     "metadata": {},
     "output_type": "execute_result"
    }
   ],
   "source": [
    "athlete"
   ]
  },
  {
   "cell_type": "code",
   "execution_count": null,
   "metadata": {},
   "outputs": [],
   "source": [
    "athlete\n"
   ]
  },
  {
   "cell_type": "code",
   "execution_count": null,
   "metadata": {},
   "outputs": [],
   "source": [
    "df_ids = pd.DataFrame(columns=['id','username',])"
   ]
  },
  {
   "cell_type": "code",
   "execution_count": null,
   "metadata": {},
   "outputs": [],
   "source": [
    "# Get athlete id and pull stats\n",
    "athlete_id = athlete['id']\n",
    "url = f'https://www.strava.com/api/v3/athletes/{athlete_id}/stats'\n",
    "stats = get_data_strava(url)"
   ]
  },
  {
   "cell_type": "code",
   "execution_count": null,
   "metadata": {},
   "outputs": [],
   "source": [
    "\n",
    "\n",
    "\n",
    "\n",
    "\n",
    "stats"
   ]
  }
 ],
 "metadata": {
  "kernelspec": {
   "display_name": "Python 3",
   "language": "python",
   "name": "python3"
  },
  "language_info": {
   "codemirror_mode": {
    "name": "ipython",
    "version": 3
   },
   "file_extension": ".py",
   "mimetype": "text/x-python",
   "name": "python",
   "nbconvert_exporter": "python",
   "pygments_lexer": "ipython3",
   "version": "3.10.9"
  }
 },
 "nbformat": 4,
 "nbformat_minor": 2
}
